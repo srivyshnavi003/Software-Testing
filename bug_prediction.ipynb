{
  "nbformat": 4,
  "nbformat_minor": 0,
  "metadata": {
    "colab": {
      "provenance": [],
      "authorship_tag": "ABX9TyMJlHiUM8m2iEztjDRWDfLp",
      "include_colab_link": true
    },
    "kernelspec": {
      "name": "python3",
      "display_name": "Python 3"
    },
    "language_info": {
      "name": "python"
    }
  },
  "cells": [
    {
      "cell_type": "markdown",
      "metadata": {
        "id": "view-in-github",
        "colab_type": "text"
      },
      "source": [
        "<a href=\"https://colab.research.google.com/github/srivyshnavi003/Software-Testing/blob/main/bug_prediction.ipynb\" target=\"_parent\"><img src=\"https://colab.research.google.com/assets/colab-badge.svg\" alt=\"Open In Colab\"/></a>"
      ]
    },
    {
      "cell_type": "code",
      "execution_count": 2,
      "metadata": {
        "colab": {
          "base_uri": "https://localhost:8080/"
        },
        "id": "MpRZ5i7XEGtG",
        "outputId": "fa12d0aa-5fa5-41bb-a6fe-994f91c60ae9"
      },
      "outputs": [
        {
          "output_type": "stream",
          "name": "stdout",
          "text": [
            "\n",
            "📊 Model Training Completed! Accuracy: 1.00\n",
            "\n",
            "Enter Code Complexity (1-10): 6\n",
            "Enter Number of Lines of Code: 679\n",
            "Enter Number of Previous Bugs: 8\n",
            "\n",
            "🚨 Bug Detected in the Code!\n"
          ]
        },
        {
          "output_type": "stream",
          "name": "stderr",
          "text": [
            "/usr/local/lib/python3.11/dist-packages/sklearn/utils/validation.py:2739: UserWarning: X does not have valid feature names, but DecisionTreeClassifier was fitted with feature names\n",
            "  warnings.warn(\n"
          ]
        }
      ],
      "source": [
        "import numpy as np\n",
        "import pandas as pd\n",
        "from sklearn.model_selection import train_test_split\n",
        "from sklearn.tree import DecisionTreeClassifier\n",
        "from sklearn.metrics import accuracy_score\n",
        "\n",
        "# Step 1: Create Sample Bug Dataset\n",
        "data = {\n",
        "    \"Code_Complexity\": [3, 7, 2, 9, 4, 8, 6, 1, 5, 7],\n",
        "    \"Lines_of_Code\": [150, 300, 50, 400, 200, 350, 275, 30, 225, 325],\n",
        "    \"Previous_Bugs\": [1, 3, 0, 4, 2, 5, 3, 0, 2, 4],\n",
        "    \"Bug_Present\": [1, 1, 0, 1, 0, 1, 1, 0, 0, 1]  # 1 = Bug, 0 = No Bug\n",
        "}\n",
        "\n",
        "# Convert to DataFrame\n",
        "df = pd.DataFrame(data)\n",
        "\n",
        "# Step 2: Split into Features (X) and Target (Y)\n",
        "X = df.drop(\"Bug_Present\", axis=1)  # Features\n",
        "Y = df[\"Bug_Present\"]  # Target\n",
        "\n",
        "# Step 3: Split into Training and Testing Sets\n",
        "X_train, X_test, Y_train, Y_test = train_test_split(X, Y, test_size=0.3, random_state=42)\n",
        "\n",
        "# Step 4: Train Decision Tree Model\n",
        "model = DecisionTreeClassifier()\n",
        "model.fit(X_train, Y_train)\n",
        "\n",
        "# Step 5: Evaluate Model Accuracy\n",
        "Y_pred = model.predict(X_test)\n",
        "accuracy = accuracy_score(Y_test, Y_pred)\n",
        "print(f\"\\n📊 Model Training Completed! Accuracy: {accuracy:.2f}\\n\")\n",
        "\n",
        "# Step 6: Take User Input for New Code\n",
        "try:\n",
        "    complexity = float(input(\"Enter Code Complexity (1-10): \"))\n",
        "    lines_of_code = int(input(\"Enter Number of Lines of Code: \"))\n",
        "    previous_bugs = int(input(\"Enter Number of Previous Bugs: \"))\n",
        "\n",
        "    # Step 7: Predict Bug Presence\n",
        "    new_bug = np.array([[complexity, lines_of_code, previous_bugs]])\n",
        "    prediction = model.predict(new_bug)\n",
        "\n",
        "    # Step 8: Print Classification Result\n",
        "    if prediction[0] == 1:\n",
        "        print(\"\\n🚨 Bug Detected in the Code!\")\n",
        "    else:\n",
        "        print(\"\\n✅ No Bug Detected. Code is Clean!\")\n",
        "\n",
        "except ValueError:\n",
        "    print(\"\\n⚠ Invalid Input! Please enter numeric values.\")\n"
      ]
    }
  ]
}